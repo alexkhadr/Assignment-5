{
 "cells": [
  {
   "cell_type": "code",
   "execution_count": 1,
   "id": "5912a44a-640e-4918-bf9d-16d9eff7fda2",
   "metadata": {},
   "outputs": [
    {
     "name": "stderr",
     "output_type": "stream",
     "text": [
      "Warning message:\n",
      "\"package 'devtools' was built under R version 4.1.3\"\n",
      "Loading required package: usethis\n",
      "\n",
      "Warning message:\n",
      "\"package 'usethis' was built under R version 4.1.3\"\n"
     ]
    },
    {
     "ename": "ERROR",
     "evalue": "Error: package or namespace load failed for 'devtools':\n .onLoad failed in loadNamespace() for 'pkgload', details:\n  call: loadNamespace(i, c(lib.loc, .libPaths()), versionCheck = vI[[i]])\n  error: namespace 'rlang' 0.4.12 is already loaded, but >= 1.0.1 is required\n",
     "output_type": "error",
     "traceback": [
      "Error: package or namespace load failed for 'devtools':\n .onLoad failed in loadNamespace() for 'pkgload', details:\n  call: loadNamespace(i, c(lib.loc, .libPaths()), versionCheck = vI[[i]])\n  error: namespace 'rlang' 0.4.12 is already loaded, but >= 1.0.1 is required\nTraceback:\n",
      "1. library(devtools)",
      "2. tryCatch({\n .     attr(package, \"LibPath\") <- which.lib.loc\n .     ns <- loadNamespace(package, lib.loc)\n .     env <- attachNamespace(ns, pos = pos, deps, exclude, include.only)\n . }, error = function(e) {\n .     P <- if (!is.null(cc <- conditionCall(e))) \n .         paste(\" in\", deparse(cc)[1L])\n .     else \"\"\n .     msg <- gettextf(\"package or namespace load failed for %s%s:\\n %s\", \n .         sQuote(package), P, conditionMessage(e))\n .     if (logical.return && !quietly) \n .         message(paste(\"Error:\", msg), domain = NA)\n .     else stop(msg, call. = FALSE, domain = NA)\n . })",
      "3. tryCatchList(expr, classes, parentenv, handlers)",
      "4. tryCatchOne(expr, names, parentenv, handlers[[1L]])",
      "5. value[[3L]](cond)",
      "6. stop(msg, call. = FALSE, domain = NA)"
     ]
    }
   ],
   "source": [
    "library(devtools)"
   ]
  },
  {
   "cell_type": "code",
   "execution_count": 2,
   "id": "b6928d79-25a6-4c11-a195-7f5d5baf82e3",
   "metadata": {},
   "outputs": [
    {
     "data": {
      "text/plain": [
       "[1] '2.4.3'"
      ]
     },
     "metadata": {},
     "output_type": "display_data"
    }
   ],
   "source": [
    "packageVersion(\"devtools\")"
   ]
  },
  {
   "cell_type": "code",
   "execution_count": 5,
   "id": "57e123d0-b713-4142-8707-b225577c8bde",
   "metadata": {},
   "outputs": [
    {
     "name": "stderr",
     "output_type": "stream",
     "text": [
      "\u001b[32mv\u001b[39m Setting active project to \u001b[34m'C:/Users/alexk/regexcite'\u001b[39m\n",
      "\n",
      "\u001b[31m*\u001b[39m Edit \u001b[34m'R/strsplit1.R'\u001b[39m\n",
      "\n",
      "\u001b[31m*\u001b[39m Call \u001b[90m`use_test()`\u001b[39m to create a matching test file\n",
      "\n"
     ]
    }
   ],
   "source": [
    "use_r(\"strsplit1\")"
   ]
  },
  {
   "cell_type": "code",
   "execution_count": 13,
   "id": "a42ae872-b9c2-4a8f-8b2a-8d7ca4d6f966",
   "metadata": {},
   "outputs": [],
   "source": [
    "source(\"R/strsplit1.R\") \n",
    "#load_all(\"R/strsplit1.r\")"
   ]
  },
  {
   "cell_type": "code",
   "execution_count": 14,
   "id": "cf377d0e-3615-497b-8db7-8595a6814c18",
   "metadata": {},
   "outputs": [
    {
     "data": {
      "text/html": [
       "'alfa,bravo,charlie,delta'"
      ],
      "text/latex": [
       "'alfa,bravo,charlie,delta'"
      ],
      "text/markdown": [
       "'alfa,bravo,charlie,delta'"
      ],
      "text/plain": [
       "[1] \"alfa,bravo,charlie,delta\""
      ]
     },
     "metadata": {},
     "output_type": "display_data"
    }
   ],
   "source": [
    "(x <- \"alfa,bravo,charlie,delta\")"
   ]
  },
  {
   "cell_type": "code",
   "execution_count": 15,
   "id": "82f6a8e4-675c-4404-8d65-c89f64152355",
   "metadata": {},
   "outputs": [
    {
     "data": {
      "text/html": [
       "<style>\n",
       ".list-inline {list-style: none; margin:0; padding: 0}\n",
       ".list-inline>li {display: inline-block}\n",
       ".list-inline>li:not(:last-child)::after {content: \"\\00b7\"; padding: 0 .5ex}\n",
       "</style>\n",
       "<ol class=list-inline><li>'alfa'</li><li>'bravo'</li><li>'charlie'</li><li>'delta'</li></ol>\n"
      ],
      "text/latex": [
       "\\begin{enumerate*}\n",
       "\\item 'alfa'\n",
       "\\item 'bravo'\n",
       "\\item 'charlie'\n",
       "\\item 'delta'\n",
       "\\end{enumerate*}\n"
      ],
      "text/markdown": [
       "1. 'alfa'\n",
       "2. 'bravo'\n",
       "3. 'charlie'\n",
       "4. 'delta'\n",
       "\n",
       "\n"
      ],
      "text/plain": [
       "[1] \"alfa\"    \"bravo\"   \"charlie\" \"delta\"  "
      ]
     },
     "metadata": {},
     "output_type": "display_data"
    }
   ],
   "source": [
    "strsplit1(x, split = \",\")"
   ]
  },
  {
   "cell_type": "code",
   "execution_count": null,
   "id": "65bd0733-4acb-43f3-8962-9c34223d3738",
   "metadata": {},
   "outputs": [],
   "source": []
  }
 ],
 "metadata": {
  "kernelspec": {
   "display_name": "R",
   "language": "R",
   "name": "ir"
  },
  "language_info": {
   "codemirror_mode": "r",
   "file_extension": ".r",
   "mimetype": "text/x-r-source",
   "name": "R",
   "pygments_lexer": "r",
   "version": "4.1.2"
  }
 },
 "nbformat": 4,
 "nbformat_minor": 5
}
